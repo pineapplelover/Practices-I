{
 "cells": [
  {
   "cell_type": "code",
   "execution_count": 30,
   "metadata": {},
   "outputs": [],
   "source": [
    "%matplotlib inline\n",
    "import numpy as np\n",
    "import pandas as pd\n",
    "import matplotlib.pyplot as plt\n",
    "import scipy\n",
    "from scipy.stats import norm"
   ]
  },
  {
   "cell_type": "code",
   "execution_count": 2,
   "metadata": {},
   "outputs": [
    {
     "name": "stdout",
     "output_type": "stream",
     "text": [
      "Sun Jul 22 21:25:50 PDT 2018\r\n"
     ]
    }
   ],
   "source": [
    "!date"
   ]
  },
  {
   "cell_type": "code",
   "execution_count": 23,
   "metadata": {},
   "outputs": [],
   "source": [
    "def bootstrap_resample(X,n,m, alpha = 0.95):\n",
    "    \"\"\"Bootstrap resample an array_like\n",
    "    Parameters\n",
    "    ----------\n",
    "    X : array_like\n",
    "      data to resample\n",
    "    n : int\n",
    "      length of resampled array\n",
    "    m : int\n",
    "      number of iterations\n",
    "    alpha : float, default 0.95\n",
    "      level of significance\n",
    "    Results\n",
    "    -------\n",
    "    returns X_resamples\"\"\"\n",
    "    \n",
    "    X_resamplemean = []\n",
    "    \n",
    "    for i in range(m):\n",
    "        resample_index = np.floor(np.random.rand(n)*len(X)).astype(int)\n",
    "        X_resample = X[resample_index]\n",
    "        X_resamplemean.append(X_resample.mean())\n",
    "        \n",
    "    X_resamplemean_np = np.array(X_resamplemean)\n",
    "    plt.hist(X_resamplemean_np)\n",
    "    \n",
    "    # confidence intervals\n",
    "    p = ((1.0 - alpha)/2.0)*100\n",
    "    lower = np.percentile(X_resamplemean_np, p)\n",
    "    upper = np.percentile(X_resamplemean_np, 100 - p)\n",
    "    \n",
    "    print 'Confidence interval is: [{0},{1}]'.format(lower, upper)\n",
    "    return lower, upper\n",
    "    \n",
    "    \n",
    "    "
   ]
  },
  {
   "cell_type": "code",
   "execution_count": 27,
   "metadata": {},
   "outputs": [
    {
     "name": "stdout",
     "output_type": "stream",
     "text": [
      "Confidence interval is: [0.955797488127,1.04558568821]\n"
     ]
    },
    {
     "data": {
      "image/png": "[encoded data removed]",
      "text/plain": [
       "<matplotlib.figure.Figure at 0x119e2b6d0>"
      ]
     },
     "metadata": {},
     "output_type": "display_data"
    }
   ],
   "source": [
    "X = np.random.normal(1.0, 0.5, 10000)\n",
    "lower, upper = bootstrap_resample(X,n=500,m=1000)\n"
   ]
  },
  {
   "cell_type": "code",
   "execution_count": 28,
   "metadata": {},
   "outputs": [
    {
     "name": "stdout",
     "output_type": "stream",
     "text": [
      "Confidence interval is: [1.05778763471,1.14687765525]\n"
     ]
    },
    {
     "data": {
      "image/png": "[encoded data removed]",
      "text/plain": [
       "<matplotlib.figure.Figure at 0x119f1a110>"
      ]
     },
     "metadata": {},
     "output_type": "display_data"
    }
   ],
   "source": [
    "X2 = np.random.normal(1.1, 0.5, 10000)\n",
    "lower2, upper2 = bootstrap_resample(X2,n=500,m=1000)"
   ]
  },
  {
   "cell_type": "code",
   "execution_count": 44,
   "metadata": {},
   "outputs": [],
   "source": [
    "# Method 2: compare the 2 samples in the function\n",
    "def bootstrap_resample(X1, X2,n,m, alpha = 0.95, twosided = True):\n",
    "    \"\"\"Bootstrap to compare the mean of X1 and X2\n",
    "    Parameters\n",
    "    ----------\n",
    "    X1 : array_like\n",
    "      data1 to resample\n",
    "    X2 : array_like\n",
    "      data2 to resample\n",
    "    n : int\n",
    "      length of resampled array\n",
    "    m : int\n",
    "      number of iterations\n",
    "    alpha : float, default 0.95\n",
    "      level of significance\n",
    "    Results\n",
    "    -------\n",
    "    returns X_resamples\"\"\"\n",
    "    \n",
    "    X1_X2_subtraction = []\n",
    "    \n",
    "    for i in range(m):\n",
    "        resample_index1 = np.floor(np.random.rand(n)*len(X1)).astype(int)\n",
    "        X_resample1 = X1[resample_index1]\n",
    "        \n",
    "        resample_index2 = np.floor(np.random.rand(n)*len(X2)).astype(int)\n",
    "        X_resample2 = X2[resample_index2]\n",
    "        \n",
    "        X1_X2_subtraction.append(X_resample1.mean()-X_resample2.mean())\n",
    "        \n",
    "    \n",
    "    plt.hist(X1_X2_subtraction)\n",
    "    \n",
    "    # confidence intervals\n",
    "    X1_X2_subtraction_np = np.array(X1_X2_subtraction)\n",
    "    \n",
    "    z_scores = (X1_X2_subtraction_np.mean() - 0)/X1_X2_subtraction_np.std()\n",
    "     \n",
    "    # print scipy.stats.ttest_ind(rvs1,rvs2)\n",
    "    \n",
    "    from scipy.stats import norm\n",
    "    \n",
    "    if twosided == True: \n",
    "        p_values = (1 - norm.cdf(abs(z_scores)))*2# twosided\n",
    "    else: \n",
    "        p_values = 1 - norm.cdf(abs(z_scores)) # one-sided\n",
    "\n",
    "    print 'p-value is:', p_values"
   ]
  },
  {
   "cell_type": "code",
   "execution_count": 45,
   "metadata": {},
   "outputs": [
    {
     "name": "stdout",
     "output_type": "stream",
     "text": [
      "p-value is: 0.0034140024383988443\n"
     ]
    },
    {
     "data": {
      "image/png": "[encoded data removed]",
      "text/plain": [
       "<matplotlib.figure.Figure at 0x119a727d0>"
      ]
     },
     "metadata": {},
     "output_type": "display_data"
    }
   ],
   "source": [
    "X1 = np.random.normal(1.0, 0.5, 10000)\n",
    "X2 = np.random.normal(1.1, 0.5, 10000)\n",
    "bootstrap_resample(X1, X2,n=500,m=1000)"
   ]
  },
  {
   "cell_type": "code",
   "execution_count": null,
   "metadata": {},
   "outputs": [],
   "source": []
  },
  {
   "cell_type": "code",
   "execution_count": null,
   "metadata": {},
   "outputs": [],
   "source": []
  },
  {
   "cell_type": "code",
   "execution_count": null,
   "metadata": {},
   "outputs": [],
   "source": []
  },
  {
   "cell_type": "code",
   "execution_count": null,
   "metadata": {},
   "outputs": [],
   "source": []
  },
  {
   "cell_type": "code",
   "execution_count": null,
   "metadata": {},
   "outputs": [],
   "source": []
  },
  {
   "cell_type": "code",
   "execution_count": null,
   "metadata": {},
   "outputs": [],
   "source": [
    "# Method 3: log to solve skewness"
   ]
  },
  {
   "cell_type": "code",
   "execution_count": null,
   "metadata": {},
   "outputs": [],
   "source": []
  }
 ],
 "metadata": {
  "kernelspec": {
   "display_name": "Python 2",
   "language": "python",
   "name": "python2"
  },
  "language_info": {
   "codemirror_mode": {
    "name": "ipython",
    "version": 2
   },
   "file_extension": ".py",
   "mimetype": "text/x-python",
   "name": "python",
   "nbconvert_exporter": "python",
   "pygments_lexer": "ipython2",
   "version": "2.7.14"
  }
 },
 "nbformat": 4,
 "nbformat_minor": 2
}
