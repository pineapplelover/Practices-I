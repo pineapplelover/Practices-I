{
 "cells": [
  {
   "cell_type": "markdown",
   "metadata": {},
   "source": [
    "### 1. TWO SUM\n",
    "#### Given an array of integers, return indices of the two numbers such that they add up to a specific target."
   ]
  },
  {
   "cell_type": "code",
   "execution_count": 1,
   "metadata": {},
   "outputs": [],
   "source": [
    "import numpy as np\n",
    "import pandas as pd"
   ]
  },
  {
   "cell_type": "code",
   "execution_count": 2,
   "metadata": {},
   "outputs": [
    {
     "name": "stdout",
     "output_type": "stream",
     "text": [
      "[51 18  2  7 11 15 20 11 20 33 35 15]\n"
     ]
    }
   ],
   "source": [
    "list2 = np.array([51,18,2,7,11,15,20,11,20,33,35,15])\n",
    "print list2"
   ]
  },
  {
   "cell_type": "code",
   "execution_count": 74,
   "metadata": {},
   "outputs": [],
   "source": [
    "def twoSum(nums, target):\n",
    "    \"\"\"\n",
    "    :type nums: List[int]\n",
    "    :type target: int\n",
    "    :rtype: List[int]\n",
    "    \"\"\"\n",
    "    result_list = []\n",
    "    lookup = {}\n",
    "    for i, num in enumerate(nums):\n",
    "        if target - num in lookup:\n",
    "            result_list.append([i, lookup[target - num]])\n",
    "        lookup[num] = i\n",
    "    return result_list\n"
   ]
  },
  {
   "cell_type": "code",
   "execution_count": 75,
   "metadata": {},
   "outputs": [
    {
     "data": {
      "text/plain": [
       "[[2, 0], [9, 8], [10, 1]]"
      ]
     },
     "execution_count": 75,
     "metadata": {},
     "output_type": "execute_result"
    }
   ],
   "source": [
    "test(list2,53)"
   ]
  },
  {
   "cell_type": "markdown",
   "metadata": {},
   "source": [
    "### 7. REVERSE INTEGER\n",
    "#### Given a 32-bit signed integer, reverse digits of an integer."
   ]
  },
  {
   "cell_type": "code",
   "execution_count": 10,
   "metadata": {},
   "outputs": [],
   "source": [
    "a = 67581"
   ]
  },
  {
   "cell_type": "code",
   "execution_count": 11,
   "metadata": {},
   "outputs": [
    {
     "name": "stdout",
     "output_type": "stream",
     "text": [
      "1\n",
      "8\n",
      "5\n",
      "7\n"
     ]
    }
   ],
   "source": [
    "print a%10\n",
    "print (a//10)%10\n",
    "print (a//100)%10\n",
    "print (a//1000)%10"
   ]
  },
  {
   "cell_type": "code",
   "execution_count": 31,
   "metadata": {},
   "outputs": [],
   "source": [
    "def reverse(x):\n",
    "    i = 0\n",
    "    y = 0\n",
    "    if x<0:\n",
    "        while 10**i <= abs(x):\n",
    "            temp = (abs(x)//(10**i))%10\n",
    "            y = y*10 + temp\n",
    "            i += 1\n",
    "        if -y < -2**31: return 0\n",
    "        else: return -y\n",
    "    else:\n",
    "        while 10**i <= abs(x):\n",
    "            temp = (abs(x)//(10**i))%10\n",
    "            y = y*10 + temp\n",
    "            i += 1\n",
    "        if y > 2**31 -1: return 0\n",
    "        else: return y\n",
    "    \n",
    "\n",
    "def reverse2(x):\n",
    "    y = int(str(abs(x))[::-1])\n",
    "    if y > 2**31: return 0\n",
    "    elif x < 0: return -y\n",
    "    else: return y\n",
    "    "
   ]
  },
  {
   "cell_type": "code",
   "execution_count": 63,
   "metadata": {},
   "outputs": [
    {
     "data": {
      "text/plain": [
       "-321"
      ]
     },
     "execution_count": 63,
     "metadata": {},
     "output_type": "execute_result"
    }
   ],
   "source": [
    "reverse2(-123)"
   ]
  },
  {
   "cell_type": "markdown",
   "metadata": {},
   "source": [
    "### 9. Palindrome Number\n",
    "#### Determine whether an integer is a palindrome. An integer is a palindrome when it reads the same backward as forward."
   ]
  },
  {
   "cell_type": "code",
   "execution_count": 64,
   "metadata": {},
   "outputs": [],
   "source": [
    "def isPalindrome(x):\n",
    "    if x < 0: return False\n",
    "    else: \n",
    "        if str(x)[::-1] == str(x): return True\n",
    "        else: return False\n",
    "        "
   ]
  },
  {
   "cell_type": "code",
   "execution_count": 70,
   "metadata": {},
   "outputs": [
    {
     "data": {
      "text/plain": [
       "True"
      ]
     },
     "execution_count": 70,
     "metadata": {},
     "output_type": "execute_result"
    }
   ],
   "source": [
    "isPalindrome(11)"
   ]
  },
  {
   "cell_type": "markdown",
   "metadata": {},
   "source": [
    "### 13. Roman to Integer\n",
    "#### Given a roman numeral, convert it to an integer. Input is guaranteed to be within the range from 1 to 3999."
   ]
  },
  {
   "cell_type": "code",
   "execution_count": 142,
   "metadata": {},
   "outputs": [],
   "source": [
    "def roman_to_int(s):\n",
    "    \"\"\"Convert from Roman numerals to an integer.\"\"\"\n",
    "    values={'M': 1000, 'D': 500, 'C': 100, 'L': 50, 'X': 10, 'V': 5, 'I': 1}\n",
    "    numbers = []\n",
    "    for char in s:\n",
    "        numbers.append(values[char]) \n",
    "    total = 0\n",
    "    if len(s) == 1: \n",
    "        total = numbers[0]\n",
    "        return total\n",
    "    else:\n",
    "        for num1, num2 in zip(numbers, numbers[1:]):\n",
    "            if num1 >= num2:\n",
    "                total += num1\n",
    "            else:\n",
    "                total -= num1\n",
    "        return total + num2    "
   ]
  },
  {
   "cell_type": "code",
   "execution_count": 143,
   "metadata": {},
   "outputs": [
    {
     "name": "stdout",
     "output_type": "stream",
     "text": [
      "1994\n",
      "58\n",
      "500\n"
     ]
    }
   ],
   "source": [
    "print roman_to_int(\"MCMXCIV\")\n",
    "print roman_to_int(\"LVIII\")\n",
    "print roman_to_int(\"D\")"
   ]
  },
  {
   "cell_type": "markdown",
   "metadata": {},
   "source": [
    "### 14. Longest Common Prefix\n",
    "#### Write a function to find the longest common prefix string amongst an array of strings."
   ]
  },
  {
   "cell_type": "code",
   "execution_count": 151,
   "metadata": {},
   "outputs": [],
   "source": [
    "def longestCommonPrefix(strs):\n",
    "    for i in range(len(strs[0])):\n",
    "        for string in strs[1:]:\n",
    "            if i >= len(string) or string[i] != strs[0][i]:\n",
    "                return strs[0][:i]\n",
    "    return strs[0]\n"
   ]
  },
  {
   "cell_type": "code",
   "execution_count": 152,
   "metadata": {},
   "outputs": [
    {
     "data": {
      "text/plain": [
       "'fl'"
      ]
     },
     "execution_count": 152,
     "metadata": {},
     "output_type": "execute_result"
    }
   ],
   "source": [
    "longestCommonPrefix([\"flower\",\"flow\",\"flight\"])"
   ]
  },
  {
   "cell_type": "code",
   "execution_count": 154,
   "metadata": {},
   "outputs": [
    {
     "data": {
      "text/plain": [
       "''"
      ]
     },
     "execution_count": 154,
     "metadata": {},
     "output_type": "execute_result"
    }
   ],
   "source": [
    "longestCommonPrefix([\"\",\"dracecar\",\"dcar\"])"
   ]
  },
  {
   "cell_type": "markdown",
   "metadata": {},
   "source": [
    "### 20. Valid Parentheses\n",
    "#### Given a string containing just the characters '(', ')', '{', '}', '[' and ']', determine if the input string is valid."
   ]
  },
  {
   "cell_type": "code",
   "execution_count": 192,
   "metadata": {},
   "outputs": [],
   "source": [
    "def isValid(s):\n",
    "    openbracket = (\"(\",\"[\",\"{\")\n",
    "    openbracket_map = {'(':')','{':'}','[':']'}\n",
    "\n",
    "    if s == '': return True\n",
    "    else:    \n",
    "        if s[0] not in openbracket: return False\n",
    "        else: \n",
    "            stack = []\n",
    "            for i, value in enumerate(s):\n",
    "                if value in openbracket:\n",
    "                    stack.append(value)\n",
    "                else:\n",
    "                    if len(stack) == 0: return False\n",
    "                    else:\n",
    "                        last_open_bracket = stack.pop() # pop() removes and returns the last item in the list\n",
    "                        if value != openbracket_map[last_open_bracket]: return False\n",
    "            return not stack\n"
   ]
  },
  {
   "cell_type": "code",
   "execution_count": 195,
   "metadata": {},
   "outputs": [
    {
     "data": {
      "text/plain": [
       "True"
      ]
     },
     "execution_count": 195,
     "metadata": {},
     "output_type": "execute_result"
    }
   ],
   "source": [
    "isValid('{{}}[]()')"
   ]
  },
  {
   "cell_type": "markdown",
   "metadata": {},
   "source": [
    "### 21. Merge Two Sorted Lists\n",
    "#### Merge two sorted linked lists and return it as a new list."
   ]
  },
  {
   "cell_type": "code",
   "execution_count": 209,
   "metadata": {},
   "outputs": [],
   "source": [
    "def mergeTwoLists(l1, l2):\n",
    "    \"\"\"\n",
    "    :type l1: ListNode\n",
    "    :type l2: ListNode\n",
    "    :rtype: ListNode\n",
    "    \"\"\"\n",
    "    sorted(l1)\n",
    "    sorted(l2)\n",
    "    l3 = l1 + l2\n",
    "    return sorted(l3)\n",
    "    \n",
    "#     l1.extend(l2)\n",
    "#     sorted(l1)"
   ]
  },
  {
   "cell_type": "code",
   "execution_count": 210,
   "metadata": {},
   "outputs": [
    {
     "name": "stdout",
     "output_type": "stream",
     "text": [
      "[1, 2, 4, 5]\n",
      "[2, 3, 5, 7]\n",
      "[1, 2, 2, 3, 4, 5, 5, 7]\n"
     ]
    }
   ],
   "source": [
    "a = [1,4,2,5]\n",
    "b = [5,2,7,3]\n",
    "print sorted(a)\n",
    "print sorted(b)\n",
    "print mergeTwoLists(a,b)"
   ]
  },
  {
   "cell_type": "code",
   "execution_count": null,
   "metadata": {},
   "outputs": [],
   "source": []
  }
 ],
 "metadata": {
  "kernelspec": {
   "display_name": "Python 2",
   "language": "python",
   "name": "python2"
  },
  "language_info": {
   "codemirror_mode": {
    "name": "ipython",
    "version": 2
   },
   "file_extension": ".py",
   "mimetype": "text/x-python",
   "name": "python",
   "nbconvert_exporter": "python",
   "pygments_lexer": "ipython2",
   "version": "2.7.14"
  }
 },
 "nbformat": 4,
 "nbformat_minor": 2
}
